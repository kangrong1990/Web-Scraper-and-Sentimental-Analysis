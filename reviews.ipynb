{
 "cells": [
  {
   "cell_type": "code",
   "execution_count": 1,
   "metadata": {},
   "outputs": [],
   "source": [
    "from bs4 import BeautifulSoup\n",
    "import requests\n",
    "\n",
    "from selenium import webdriver\n",
    "from selenium.webdriver.common.keys import Keys\n",
    "from selenium.common.exceptions import *\n",
    "\n",
    "import pandas as pd\n",
    "import numpy as np\n",
    "from collections import defaultdict\n",
    "from datetime import datetime\n",
    "import re\n",
    "import os\n",
    "import glob\n",
    "import time\n",
    "import pickle"
   ]
  },
  {
   "cell_type": "code",
   "execution_count": 2,
   "metadata": {},
   "outputs": [],
   "source": [
    "homepage = \"https://www.airbnb.ca\""
   ]
  },
  {
   "cell_type": "code",
   "execution_count": 3,
   "metadata": {},
   "outputs": [],
   "source": [
    "city = 'Toronto'"
   ]
  },
  {
   "cell_type": "code",
   "execution_count": 4,
   "metadata": {},
   "outputs": [],
   "source": [
    "check_in_date = '2021-04-11'\n",
    "check_out_date = '2021-04-15'"
   ]
  },
  {
   "cell_type": "code",
   "execution_count": 5,
   "metadata": {},
   "outputs": [],
   "source": [
    "no_adult = 4\n",
    "no_kid = 1"
   ]
  },
  {
   "cell_type": "code",
   "execution_count": 6,
   "metadata": {},
   "outputs": [],
   "source": [
    "def load_page(page):\n",
    "    driver = webdriver.Chrome('/usr/local/bin/chromedriver')\n",
    "    driver.get(page)\n",
    "    return driver"
   ]
  },
  {
   "cell_type": "code",
   "execution_count": 7,
   "metadata": {},
   "outputs": [],
   "source": [
    "def search_places(city, check_in_date, check_out_date, no_adult, no_kid):\n",
    "    driver = load_page(homepage)\n",
    "    p = driver.find_element_by_id(\"bigsearch-query-detached-query\")\n",
    "    p.send_keys(city, Keys.ENTER)\n",
    "    \n",
    "    driver.implicitly_wait(5)\n",
    "    \n",
    "    ci_date = datetime.strptime(check_in_date, '%Y-%m-%d').strftime('%B %d, %Y')\n",
    "    co_date = datetime.strptime(check_out_date, '%Y-%m-%d').strftime('%B %d, %Y')\n",
    "    ci = driver.find_element_by_xpath(\"//td[@class='_12fun97'][contains(@aria-label, '{}')]\".format(ci_date)).send_keys(Keys.RETURN)\n",
    "    co = driver.find_element_by_xpath(\"//td[@class='_12fun97'][contains(@aria-label, '{}')]\".format(co_date)).send_keys(Keys.RETURN)\n",
    "    \n",
    "    driver.find_element_by_xpath(\"//div[@data-testid='structured-search-input-field-guests-button']\").click()\n",
    "    \n",
    "    for n in range(no_adult):    \n",
    "        driver.find_element_by_xpath(\"//button[@class='_7hhhl3'][@data-testid='stepper-adults-increase-button']\").click()\n",
    "    for n in range(no_kid):\n",
    "        driver.find_element_by_xpath(\"//button[@class='_7hhhl3'][@data-testid='stepper-children-increase-button']\").click()\n",
    "        \n",
    "    window_old = driver.window_handles[0]\n",
    "    result = driver.find_element_by_xpath(\"//button[@class='_1mzhry13'][@data-testid='structured-search-input-search-button']\").click()\n",
    "    window_new = driver.window_handles[0]\n",
    "    driver.switch_to.window(window_new)\n",
    "    \n",
    "    driver.implicitly_wait(5)\n",
    "    \n",
    "    listing = []\n",
    "    no_of_page = driver.find_element_by_xpath(\"//div[@aria-label='Search results pagination']\").find_elements_by_tag_name('a')[-2].text\n",
    "    for p in range(int(no_of_page) - 1):\n",
    "        link_list = get_list_link(driver, homepage)\n",
    "        for l in link_list:\n",
    "            listing.append(l)\n",
    "        driver.find_element_by_xpath(\"//a[@aria-label='Next']\").send_keys(Keys.RETURN)\n",
    "        driver.implicitly_wait(5)\n",
    "#         win_new = driver.window_handles[0]\n",
    "#         driver.switch_to.window(win_new)\n",
    "        current_url = driver.current_url\n",
    "        driver.get(current_url)\n",
    "        \n",
    "    return listing"
   ]
  },
  {
   "cell_type": "code",
   "execution_count": 8,
   "metadata": {},
   "outputs": [],
   "source": [
    "def gen_soup(url):\n",
    "        page = requests.get(url, headers={\"User-Agent\": \"XY\"}).text\n",
    "        soup = BeautifulSoup(page, 'html.parser')\n",
    "        return soup"
   ]
  },
  {
   "cell_type": "code",
   "execution_count": 9,
   "metadata": {},
   "outputs": [],
   "source": [
    "def get_list_link(page, homepage):\n",
    "    soup = BeautifulSoup(page.page_source, 'html.parser')\n",
    "    link_list = [homepage + t.a.get('href') for t in soup.find_all('div', class_='_8s3ctt')]\n",
    "    return link_list"
   ]
  },
  {
   "cell_type": "code",
   "execution_count": 80,
   "metadata": {},
   "outputs": [],
   "source": [
    "def get_reviews(url):\n",
    "    page = load_page(url)\n",
    "    page.implicitly_wait(5)\n",
    "    no_reviews = re.findall('\\d+', page.find_element_by_class_name('_owhb5o').text)[0]\n",
    "    page.find_element_by_link_text('Show all {} reviews'.format(no_reviews)).send_keys(Keys.RETURN)\n",
    "    page.implicitly_wait(3)\n",
    "    current_url = page.current_url\n",
    "    page.get(current_url)\n",
    "    \n",
    "    reviews = []\n",
    "    \n",
    "    loaded_reviews = page.find_elements_by_xpath(\"//div[@class='_1d784e5']/span\")\n",
    "    loaded_till_now = len(loaded_reviews)\n",
    "\n",
    "    while(loaded_till_now < no_reviews):\n",
    "        loaded_reviews[loaded_till_now-1].location_once_scrolled_into_view\n",
    "        page.find_element_by_tag_name('body').send_keys(Keys.SPACE)\n",
    "        page.implicitly_wait(5)\n",
    "        loaded_reviews = page.find_elements_by_xpath(\"//div[@class='_1d784e5']/span\")\n",
    "        loaded_till_now = len(loaded_reviews)\n",
    "        \n",
    "    for lr in loaded_reviews:\n",
    "        reviews.append(lr.text)\n",
    "        \n",
    "    return reviews"
   ]
  },
  {
   "cell_type": "code",
   "execution_count": 11,
   "metadata": {},
   "outputs": [],
   "source": [
    "listing = search_places(city, check_in_date, check_out_date, no_adult, no_kid)"
   ]
  },
  {
   "cell_type": "code",
   "execution_count": 82,
   "metadata": {},
   "outputs": [],
   "source": [
    "url = listing[2]"
   ]
  },
  {
   "cell_type": "code",
   "execution_count": 86,
   "metadata": {},
   "outputs": [],
   "source": [
    "page002 = load_page(url)"
   ]
  },
  {
   "cell_type": "code",
   "execution_count": 83,
   "metadata": {},
   "outputs": [],
   "source": [
    "reviews = get_reviews(url)"
   ]
  }
 ],
 "metadata": {
  "kernelspec": {
   "display_name": "Python 3",
   "language": "python",
   "name": "python3"
  },
  "language_info": {
   "codemirror_mode": {
    "name": "ipython",
    "version": 3
   },
   "file_extension": ".py",
   "mimetype": "text/x-python",
   "name": "python",
   "nbconvert_exporter": "python",
   "pygments_lexer": "ipython3",
   "version": "3.6.5"
  }
 },
 "nbformat": 4,
 "nbformat_minor": 2
}
